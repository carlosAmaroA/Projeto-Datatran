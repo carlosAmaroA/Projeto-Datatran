{
 "cells": [
  {
   "cell_type": "code",
   "execution_count": 30,
   "id": "1154598d",
   "metadata": {},
   "outputs": [],
   "source": [
    "import pandas as pd \n",
    "import matplotlib.pyplot as plt \n",
    "import seaborn as sns \n",
    "import os"
   ]
  },
  {
   "cell_type": "markdown",
   "id": "32881b5b",
   "metadata": {},
   "source": [
    "# Analise Exploratoria "
   ]
  },
  {
   "cell_type": "code",
   "execution_count": 31,
   "id": "5ff8dfd5",
   "metadata": {},
   "outputs": [],
   "source": [
    "data = pd.read_pickle(os.path.join('..','..','data','processed','datatran_ocorrencias.pkl'))"
   ]
  }
 ],
 "metadata": {
  "kernelspec": {
   "display_name": "venv",
   "language": "python",
   "name": "python3"
  },
  "language_info": {
   "codemirror_mode": {
    "name": "ipython",
    "version": 3
   },
   "file_extension": ".py",
   "mimetype": "text/x-python",
   "name": "python",
   "nbconvert_exporter": "python",
   "pygments_lexer": "ipython3",
   "version": "3.12.5"
  }
 },
 "nbformat": 4,
 "nbformat_minor": 5
}
