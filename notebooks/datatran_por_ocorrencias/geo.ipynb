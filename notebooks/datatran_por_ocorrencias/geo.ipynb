{
 "cells": [
  {
   "cell_type": "code",
   "execution_count": 50,
   "id": "c3ebc0c4",
   "metadata": {},
   "outputs": [],
   "source": [
    "import pandas as pd \n",
    "import matplotlib.pyplot as plt\n",
    "import os"
   ]
  },
  {
   "cell_type": "code",
   "execution_count": 51,
   "id": "8dc30adc",
   "metadata": {},
   "outputs": [],
   "source": [
    "data = pd.read_pickle(os.path.join('..','..','data','processed','datatran_ocorrencias.pkl'))"
   ]
  },
  {
   "cell_type": "markdown",
   "id": "4dcbddbf",
   "metadata": {},
   "source": [
    "## Distribuição Geografica dos Acidentes"
   ]
  },
  {
   "cell_type": "code",
   "execution_count": null,
   "id": "eb3bce91",
   "metadata": {},
   "outputs": [],
   "source": []
  }
 ],
 "metadata": {
  "kernelspec": {
   "display_name": "venv",
   "language": "python",
   "name": "python3"
  },
  "language_info": {
   "codemirror_mode": {
    "name": "ipython",
    "version": 3
   },
   "file_extension": ".py",
   "mimetype": "text/x-python",
   "name": "python",
   "nbconvert_exporter": "python",
   "pygments_lexer": "ipython3",
   "version": "3.12.5"
  }
 },
 "nbformat": 4,
 "nbformat_minor": 5
}
