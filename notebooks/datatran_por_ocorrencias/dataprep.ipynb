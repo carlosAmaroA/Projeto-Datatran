{
 "cells": [
  {
   "cell_type": "markdown",
   "id": "1b8267f2",
   "metadata": {},
   "source": [
    "\n",
    "# Tipagem e Processamento de Dados"
   ]
  },
  {
   "cell_type": "code",
   "execution_count": 83,
   "id": "25728014",
   "metadata": {},
   "outputs": [],
   "source": [
    "from ydata_profiling import ProfileReport \n",
    "import pandas as pd \n",
    "from unidecode import unidecode\n",
    "import os"
   ]
  },
  {
   "cell_type": "markdown",
   "id": "53775b41",
   "metadata": {},
   "source": [
    "> **Nota:** Optei por utilizar apenas os dados de 2017 a 2024, pois a partir de 2017 passaram a ser incluídas informações de longitude e latitude, conforme indicado no dicionário disponível na pasta `reports`.\n"
   ]
  },
  {
   "cell_type": "code",
   "execution_count": 84,
   "id": "c8ba5f4a",
   "metadata": {},
   "outputs": [
    {
     "name": "stderr",
     "output_type": "stream",
     "text": [
      "C:\\Users\\Carlos\\AppData\\Local\\Temp\\ipykernel_10532\\88604282.py:2: DtypeWarning: Columns (5,6) have mixed types. Specify dtype option on import or set low_memory=False.\n",
      "  data  = [pd.read_csv(os.path.join(dirpath,file),encoding='latin1',sep=';') for file in os.listdir(dirpath)][10:]\n",
      "C:\\Users\\Carlos\\AppData\\Local\\Temp\\ipykernel_10532\\88604282.py:2: DtypeWarning: Columns (5,6) have mixed types. Specify dtype option on import or set low_memory=False.\n",
      "  data  = [pd.read_csv(os.path.join(dirpath,file),encoding='latin1',sep=';') for file in os.listdir(dirpath)][10:]\n",
      "C:\\Users\\Carlos\\AppData\\Local\\Temp\\ipykernel_10532\\88604282.py:2: DtypeWarning: Columns (5,6) have mixed types. Specify dtype option on import or set low_memory=False.\n",
      "  data  = [pd.read_csv(os.path.join(dirpath,file),encoding='latin1',sep=';') for file in os.listdir(dirpath)][10:]\n"
     ]
    }
   ],
   "source": [
    "dirpath = os.path.join('..','..','data','raw','datatran','ocorrencia')\n",
    "data  = [pd.read_csv(os.path.join(dirpath,file),encoding='latin1',sep=';') for file in os.listdir(dirpath)][10:]\n",
    "data = pd.concat(data)"
   ]
  },
  {
   "cell_type": "code",
   "execution_count": 85,
   "id": "805a661a",
   "metadata": {},
   "outputs": [
    {
     "name": "stdout",
     "output_type": "stream",
     "text": [
      "latitude\n",
      "longitude\n"
     ]
    }
   ],
   "source": [
    "# Testa tipos mixos\n",
    "def is_mixed(col):\n",
    "    return len(set(type(x) for x in col if pd.notna(x))) > 1\n",
    "\n",
    "for c in data.columns:\n",
    "    if is_mixed(data[c]):\n",
    "        print(c)\n",
    "# As colunas que tem mais de um tipo de dado são latitude e longitude, então vou transformar em string\n",
    "data['latitude'] = data['latitude'].astype(str)\n",
    "data['longitude'] = data['longitude'].astype(str)"
   ]
  },
  {
   "cell_type": "code",
   "execution_count": 86,
   "id": "e24bd714",
   "metadata": {},
   "outputs": [],
   "source": [
    "# Alteração do nome data_inversa para data, e limpeza do nome das colunas\n",
    "data.columns = data.columns.str.strip().str.lower()\n",
    "data.rename(columns={'data_inversa':'data'},inplace=True)\n"
   ]
  },
  {
   "cell_type": "code",
   "execution_count": 87,
   "id": "8981bca7",
   "metadata": {},
   "outputs": [],
   "source": [
    "# é possivel obter horario e dia da semana a partir da coluna data, então eliminei colunas horario e dia da semana\n",
    "data['data'] = pd.to_datetime(data['data']+' '+data['horario'])\n",
    "data.drop(['horario','dia_semana'],axis=1,inplace=True)\n"
   ]
  },
  {
   "cell_type": "code",
   "execution_count": 88,
   "id": "6388205b",
   "metadata": {},
   "outputs": [],
   "source": [
    "data['id'] = data['id'].astype(int)\n",
    "data.set_index('id',inplace=True)"
   ]
  },
  {
   "cell_type": "code",
   "execution_count": 89,
   "id": "2d838f4b",
   "metadata": {},
   "outputs": [],
   "source": [
    "# Normalização de colunas categoricas que são strings\n",
    "cat_upper = ['uf','municipio','delegacia','regional','uop']\n",
    "for cat in cat_upper:\n",
    "    data[cat] = data[cat].str.strip().str.upper()\n",
    "    data[cat] = data[cat].apply(lambda s: unidecode(s) if isinstance(s,str) else s)\n",
    "    data[cat] = data[cat].astype('category')\n",
    "cat_lower = ['causa_acidente','tipo_acidente','classificacao_acidente','fase_dia','sentido_via','condicao_metereologica','tipo_pista','tracado_via','uso_solo']\n",
    "for cat in cat_lower:\n",
    "    data[cat] = data[cat].str.strip().str.lower()\n",
    "    data[cat] = data[cat].apply(lambda s: unidecode(s) if isinstance(s,str) else s)\n",
    "    data[cat] = data[cat].astype('category')\n",
    "\n"
   ]
  },
  {
   "cell_type": "code",
   "execution_count": 90,
   "id": "b25fb510",
   "metadata": {},
   "outputs": [],
   "source": [
    "data['km'] = data['km'].str.replace(',','.').astype('float')\n",
    "data['latitude'] = data['latitude'].str.strip().str.replace(',','.').astype(float)\n",
    "data['longitude'] = data['longitude'].str.strip().str.replace(',','.').astype(float)\n",
    "data['br'] = data['br'].astype('category')"
   ]
  },
  {
   "cell_type": "code",
   "execution_count": 91,
   "id": "b1f1d2f3",
   "metadata": {},
   "outputs": [],
   "source": [
    "data.to_pickle(os.path.join('..','..','data','processed','datatran_ocorrencias.pkl'))"
   ]
  },
  {
   "cell_type": "code",
   "execution_count": 92,
   "id": "5c182c28",
   "metadata": {},
   "outputs": [
    {
     "name": "stdout",
     "output_type": "stream",
     "text": [
      "<class 'pandas.core.frame.DataFrame'>\n",
      "Index: 560138 entries, 17 to 661598\n",
      "Data columns (total 27 columns):\n",
      " #   Column                  Non-Null Count   Dtype         \n",
      "---  ------                  --------------   -----         \n",
      " 0   data                    560138 non-null  datetime64[ns]\n",
      " 1   uf                      560138 non-null  category      \n",
      " 2   br                      560138 non-null  category      \n",
      " 3   km                      560138 non-null  float64       \n",
      " 4   municipio               560138 non-null  category      \n",
      " 5   causa_acidente          560138 non-null  category      \n",
      " 6   tipo_acidente           560097 non-null  category      \n",
      " 7   classificacao_acidente  560129 non-null  category      \n",
      " 8   fase_dia                560138 non-null  category      \n",
      " 9   sentido_via             560138 non-null  category      \n",
      " 10  condicao_metereologica  560138 non-null  category      \n",
      " 11  tipo_pista              560138 non-null  category      \n",
      " 12  tracado_via             560138 non-null  category      \n",
      " 13  uso_solo                560138 non-null  category      \n",
      " 14  pessoas                 560138 non-null  int64         \n",
      " 15  mortos                  560138 non-null  int64         \n",
      " 16  feridos_leves           560138 non-null  int64         \n",
      " 17  feridos_graves          560138 non-null  int64         \n",
      " 18  ilesos                  560138 non-null  int64         \n",
      " 19  ignorados               560138 non-null  int64         \n",
      " 20  feridos                 560138 non-null  int64         \n",
      " 21  veiculos                560138 non-null  int64         \n",
      " 22  latitude                560138 non-null  float64       \n",
      " 23  longitude               560138 non-null  float64       \n",
      " 24  regional                560111 non-null  category      \n",
      " 25  delegacia               559923 non-null  category      \n",
      " 26  uop                     559742 non-null  category      \n",
      "dtypes: category(15), datetime64[ns](1), float64(3), int64(8)\n",
      "memory usage: 66.4 MB\n"
     ]
    }
   ],
   "source": [
    "data.info()"
   ]
  }
 ],
 "metadata": {
  "kernelspec": {
   "display_name": "venv",
   "language": "python",
   "name": "python3"
  },
  "language_info": {
   "codemirror_mode": {
    "name": "ipython",
    "version": 3
   },
   "file_extension": ".py",
   "mimetype": "text/x-python",
   "name": "python",
   "nbconvert_exporter": "python",
   "pygments_lexer": "ipython3",
   "version": "3.12.5"
  }
 },
 "nbformat": 4,
 "nbformat_minor": 5
}
