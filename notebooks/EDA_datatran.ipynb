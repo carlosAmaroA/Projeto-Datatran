{
 "cells": [
  {
   "cell_type": "code",
   "execution_count": 1,
   "id": "aec2fe10",
   "metadata": {},
   "outputs": [],
   "source": [
    "import os \n",
    "import pandas as pd \n",
    "import seaborn as sns \n",
    "import matplotlib.pyplot as plt"
   ]
  },
  {
   "cell_type": "code",
   "execution_count": null,
   "id": "09a96afa",
   "metadata": {},
   "outputs": [
    {
     "name": "stderr",
     "output_type": "stream",
     "text": [
      "C:\\Users\\Carlos\\AppData\\Local\\Temp\\ipykernel_13068\\1906038805.py:4: DtypeWarning: Columns (5,6) have mixed types. Specify dtype option on import or set low_memory=False.\n",
      "  data = [pd.read_csv(os.path.join(directory,fpath),sep=';',encoding='latin1') for fpath in fpaths]\n",
      "C:\\Users\\Carlos\\AppData\\Local\\Temp\\ipykernel_13068\\1906038805.py:4: DtypeWarning: Columns (5,6) have mixed types. Specify dtype option on import or set low_memory=False.\n",
      "  data = [pd.read_csv(os.path.join(directory,fpath),sep=';',encoding='latin1') for fpath in fpaths]\n",
      "C:\\Users\\Carlos\\AppData\\Local\\Temp\\ipykernel_13068\\1906038805.py:4: DtypeWarning: Columns (5,6) have mixed types. Specify dtype option on import or set low_memory=False.\n",
      "  data = [pd.read_csv(os.path.join(directory,fpath),sep=';',encoding='latin1') for fpath in fpaths]\n"
     ]
    }
   ],
   "source": [
    "#carrega os datasets em ordem (ano , ordem crescente)\n",
    "directory = os.path.join('..','data','raw','datatran','ocorrencia')\n",
    "fpaths = [fpath for fpath in os.listdir(directory)]\n",
    "fpaths.sort(key=lambda s:int(s[8:12]))\n",
    "data = [pd.read_csv(os.path.join(directory,fpath),sep=';',encoding='latin1') for fpath in fpaths]"
   ]
  },
  {
   "cell_type": "code",
   "execution_count": 17,
   "id": "4f37de2f",
   "metadata": {},
   "outputs": [
    {
     "name": "stdout",
     "output_type": "stream",
     "text": [
      "Existem diferentes colunas nos datasets\n",
      "número de colunas do dataset que aprensenta o menor número de colunas: 25\n",
      "___________________________________________________________________________________________________________________\n",
      "Conjunto união das colunas\n",
      "id | data_inversa | dia_semana | horario | uf | br | km | municipio | causa_acidente | tipo_acidente | classificacao_acidente | fase_dia | sentido_via | condicao_metereologica | tipo_pista | tracado_via | uso_solo | ano | pessoas | mortos | feridos_leves | feridos_graves | ilesos | ignorados | feridos | veiculos | latitude | longitude | regional | delegacia | uop\n",
      "tamanho:31\n",
      "Conjunto intersecção das colunas\n",
      "id | data_inversa | dia_semana | horario | uf | br | km | municipio | causa_acidente | tipo_acidente | classificacao_acidente | fase_dia | sentido_via | condicao_metereologica | tipo_pista | tracado_via | uso_solo | pessoas | mortos | feridos_leves | feridos_graves | ilesos | ignorados | feridos | veiculos\n",
      "tamanho:25\n",
      "Conjunto complement U-I\n",
      "latitude | longitude | ano | uop | regional | delegacia\n",
      "___________________________________________________________________________________________________________________\n",
      "Colunas alteradas ano a ano\n",
      "Year:2015-2016  removidas: ano\n",
      "Year:2016-2017 adicionadas: latitude | longitude | uop | regional | delegacia \n"
     ]
    }
   ],
   "source": [
    "line = '___________________________________________________________________________________________________________________'\n",
    "# Limpando o nome das colunas\n",
    "for df in data:\n",
    "    df.columns = df.columns.str.strip().str.lower()\n",
    "# Testa se todos os datasets tem as mesmas colunas\n",
    "equal = [df.columns.equals(data[0].columns) for df in data]\n",
    "print('Todos os datasets apresentam as mesmas colunas') if all(equal) else print('Existem diferentes colunas nos datasets')\n",
    "print(f\"número de colunas do dataset que aprensenta o menor número de colunas: {min(len(df.columns) for df in data)}\")\n",
    "print(line)\n",
    "# Cria o grupo união e intersecção de todas as colunas\n",
    "un_cols,in_cols = [],[]\n",
    "for df in data:\n",
    "    for col in df.columns:\n",
    "        if not col in un_cols:\n",
    "            un_cols.append(col)\n",
    "for col in un_cols:\n",
    "    if all(col in list(df.columns) for df in data):\n",
    "        in_cols.append(col)\n",
    "print('Conjunto união das colunas')\n",
    "print(f\"{' | '.join(un_cols)}\\ntamanho:{len(un_cols)}\")\n",
    "print('Conjunto intersecção das colunas')\n",
    "print(f\"{' | '.join(in_cols)}\\ntamanho:{len(in_cols)}\")\n",
    "print('Conjunto complement U-I')\n",
    "print(f\"{' | '.join(set(un_cols)-set(in_cols))}\")\n",
    "# Como o dataset com o menor número de colunas possui 25 colunas, \n",
    "# e o conjunto de interseção também contém 25 colunas, podemos concluir \n",
    "# que o dataset com 25 colunas corresponde exatamente ao conjunto de interseção.\n",
    "\n",
    "# Este codigo gera colunas alteradas ano a ano\n",
    "print(line)\n",
    "print('Colunas alteradas ano a ano')\n",
    "for i,df in enumerate(data[:-1]):\n",
    "    year = 2007+i\n",
    "    current_year = set(df.columns)\n",
    "    next_year = set(data[i+1].columns)\n",
    "    add = next_year - current_year\n",
    "    add = 'adicionadas: ' +' | '.join(add) if len(add)!=0 else ''\n",
    "    sub = current_year - next_year\n",
    "    sub = 'removidas: ' +' | '.join(sub) if len(sub)!=0 else ''\n",
    "    print(f\"Year:{year}-{year+1} {add} {sub}\") if add or sub else ''\n",
    "# com isto acredito ser bom usar apenas os dados que vem após 2017(incluso) porque a partir desta data\n",
    "# é adicionada longitude e latitude, que acredito serem importantes para o projeto"
   ]
  },
  {
   "cell_type": "code",
   "execution_count": null,
   "id": "eaa2d948",
   "metadata": {},
   "outputs": [],
   "source": []
  }
 ],
 "metadata": {
  "kernelspec": {
   "display_name": "venv",
   "language": "python",
   "name": "python3"
  },
  "language_info": {
   "codemirror_mode": {
    "name": "ipython",
    "version": 3
   },
   "file_extension": ".py",
   "mimetype": "text/x-python",
   "name": "python",
   "nbconvert_exporter": "python",
   "pygments_lexer": "ipython3",
   "version": "3.12.5"
  }
 },
 "nbformat": 4,
 "nbformat_minor": 5
}
